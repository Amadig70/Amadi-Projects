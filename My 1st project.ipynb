{
 "cells": [
  {
   "cell_type": "code",
   "execution_count": null,
   "metadata": {},
   "outputs": [],
   "source": [
    "import random\n",
    "random_num =random.randint(100, 1000)\n",
    "guess =99\n",
    "while guess!=random_num:\n",
    "  guess= int(input('New number '))\n",
    "  if guess >99:\n",
    "    if guess < random_num:\n",
    "      print('Thank you but the number is too small')\n",
    "    elif guess> random_num:\n",
    "      print('Thank you but the number is too large')\n",
    "  else:\n",
    "    print('sorry that you are giving up')\n",
    "    break\n",
    "else:\n",
    "  print('congratulations you did it')\n"
   ]
  },
  {
   "cell_type": "code",
   "execution_count": 1,
   "metadata": {},
   "outputs": [],
   "source": [
    "import numpy as np\n",
    "import pandas as pd"
   ]
  },
  {
   "cell_type": "code",
   "execution_count": null,
   "metadata": {},
   "outputs": [],
   "source": []
  }
 ],
 "metadata": {
  "kernelspec": {
   "display_name": "Python 3",
   "language": "python",
   "name": "python3"
  },
  "language_info": {
   "codemirror_mode": {
    "name": "ipython",
    "version": 3
   },
   "file_extension": ".py",
   "mimetype": "text/x-python",
   "name": "python",
   "nbconvert_exporter": "python",
   "pygments_lexer": "ipython3",
   "version": "3.7.6"
  }
 },
 "nbformat": 4,
 "nbformat_minor": 4
}
